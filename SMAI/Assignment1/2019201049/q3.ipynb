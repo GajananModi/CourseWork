{
 "cells": [
  {
   "cell_type": "code",
   "execution_count": 6,
   "metadata": {},
   "outputs": [],
   "source": [
    "import numpy as np\n",
    "import pandas as pd\n",
    "from sklearn.model_selection import train_test_split \n",
    "from sklearn.linear_model import LinearRegression\n",
    "from sklearn.metrics import r2_score,mean_absolute_error,mean_squared_error\n",
    "import sys\n",
    "from random import sample\n",
    "from pylab import *\n",
    "import matplotlib\n",
    "import matplotlib.pyplot as plt"
   ]
  },
  {
   "cell_type": "code",
   "execution_count": 7,
   "metadata": {},
   "outputs": [],
   "source": [
    "df=pd.read_csv(\"/home/gsmodi/Music/OneDrive_1_29-02-2020/Datasets/Question-3/airfoil.csv\",header=None)"
   ]
  },
  {
   "cell_type": "code",
   "execution_count": 22,
   "metadata": {},
   "outputs": [],
   "source": [
    "X=df.drop(labels=[5],axis=1)\n",
    "\n",
    "Y=df[5]\n",
    "X_train, X_test, Y_train, Y_test = train_test_split(X,Y,test_size = 0.2)"
   ]
  },
  {
   "cell_type": "code",
   "execution_count": 23,
   "metadata": {},
   "outputs": [
    {
     "data": {
      "text/html": [
       "<div>\n",
       "<style scoped>\n",
       "    .dataframe tbody tr th:only-of-type {\n",
       "        vertical-align: middle;\n",
       "    }\n",
       "\n",
       "    .dataframe tbody tr th {\n",
       "        vertical-align: top;\n",
       "    }\n",
       "\n",
       "    .dataframe thead th {\n",
       "        text-align: right;\n",
       "    }\n",
       "</style>\n",
       "<table border=\"1\" class=\"dataframe\">\n",
       "  <thead>\n",
       "    <tr style=\"text-align: right;\">\n",
       "      <th></th>\n",
       "      <th>0</th>\n",
       "      <th>1</th>\n",
       "      <th>2</th>\n",
       "      <th>3</th>\n",
       "      <th>4</th>\n",
       "    </tr>\n",
       "  </thead>\n",
       "  <tbody>\n",
       "    <tr>\n",
       "      <td>0</td>\n",
       "      <td>8000.0</td>\n",
       "      <td>4.0</td>\n",
       "      <td>0.2286</td>\n",
       "      <td>39.6</td>\n",
       "      <td>0.004738</td>\n",
       "    </tr>\n",
       "    <tr>\n",
       "      <td>1</td>\n",
       "      <td>6300.0</td>\n",
       "      <td>0.0</td>\n",
       "      <td>0.0508</td>\n",
       "      <td>55.5</td>\n",
       "      <td>0.000762</td>\n",
       "    </tr>\n",
       "    <tr>\n",
       "      <td>2</td>\n",
       "      <td>400.0</td>\n",
       "      <td>4.0</td>\n",
       "      <td>0.2286</td>\n",
       "      <td>55.5</td>\n",
       "      <td>0.004286</td>\n",
       "    </tr>\n",
       "    <tr>\n",
       "      <td>3</td>\n",
       "      <td>1250.0</td>\n",
       "      <td>15.4</td>\n",
       "      <td>0.0508</td>\n",
       "      <td>39.6</td>\n",
       "      <td>0.028259</td>\n",
       "    </tr>\n",
       "    <tr>\n",
       "      <td>4</td>\n",
       "      <td>800.0</td>\n",
       "      <td>7.3</td>\n",
       "      <td>0.2286</td>\n",
       "      <td>39.6</td>\n",
       "      <td>0.012348</td>\n",
       "    </tr>\n",
       "  </tbody>\n",
       "</table>\n",
       "</div>"
      ],
      "text/plain": [
       "        0     1       2     3         4\n",
       "0  8000.0   4.0  0.2286  39.6  0.004738\n",
       "1  6300.0   0.0  0.0508  55.5  0.000762\n",
       "2   400.0   4.0  0.2286  55.5  0.004286\n",
       "3  1250.0  15.4  0.0508  39.6  0.028259\n",
       "4   800.0   7.3  0.2286  39.6  0.012348"
      ]
     },
     "execution_count": 23,
     "metadata": {},
     "output_type": "execute_result"
    }
   ],
   "source": [
    "X.head()"
   ]
  },
  {
   "cell_type": "code",
   "execution_count": 24,
   "metadata": {},
   "outputs": [],
   "source": [
    "X_train = (X_train - X_train.mean())/X_train.std()\n",
    "# Y_train = (Y_train - Y_train.mean())/Y_train.std()\n",
    "X_test = (X_test - X_test.mean())/X_test.std()"
   ]
  },
  {
   "cell_type": "code",
   "execution_count": 25,
   "metadata": {},
   "outputs": [],
   "source": [
    "X_train = pd.concat([X_train,Y_train],axis=1)\n",
    "ones = np.ones([X_train.shape[0],1])\n",
    "Y_train = X_train.iloc[:,5:6].values\n",
    "X_train = X_train.iloc[:,0:5]\n",
    "X_train = np.concatenate((ones,X_train),axis=1)"
   ]
  },
  {
   "cell_type": "code",
   "execution_count": 26,
   "metadata": {},
   "outputs": [],
   "source": [
    "def gradient_decent(X_train,Y_train,theta,learning_rate,iterations):\n",
    "    \n",
    "    for i in range(iterations):\n",
    "        theta = theta - (learning_rate/len(X_train)) * np.sum(X_train * (X_train @ theta.T - Y_train), axis=0)\n",
    "    \n",
    "    return theta"
   ]
  },
  {
   "cell_type": "code",
   "execution_count": 27,
   "metadata": {},
   "outputs": [],
   "source": [
    "def calculate_pred(learning_rate,iterations,theta):\n",
    "    g = gradient_decent(X_train,Y_train,theta,learning_rate,iterations)\n",
    "    g = g[0]\n",
    "    y_pred = []\n",
    "    for index,rows in X_test.iterrows():\n",
    "        y = 0\n",
    "        rows = list(rows)\n",
    "        for i in range(len(rows)):\n",
    "            y = y + rows[i]*g[i+1]\n",
    "        y = y + g[0]\n",
    "        y_pred.append(y)\n",
    "    return y_pred"
   ]
  },
  {
   "cell_type": "code",
   "execution_count": 28,
   "metadata": {},
   "outputs": [],
   "source": [
    "def mean_absolute_percentage_error(y_true, y_pred): \n",
    "    y_true, y_pred = np.array(y_true), np.array(y_pred)\n",
    "    return np.mean(np.abs((y_true - y_pred) / y_true)) * 100"
   ]
  },
  {
   "cell_type": "code",
   "execution_count": 29,
   "metadata": {},
   "outputs": [
    {
     "data": {
      "image/png": "[encoded data removed]",
      "text/plain": [
       "<Figure size 432x288 with 1 Axes>"
      ]
     },
     "metadata": {
      "needs_background": "light"
     },
     "output_type": "display_data"
    }
   ],
   "source": [
    "x_axis = [1000*i for i in range(1,11)]\n",
    "er0=[]\n",
    "er1=[]\n",
    "er2=[]\n",
    "learning_rate = [0.01,0.1,0.001]\n",
    "iterations = 1000\n",
    "theta = np.zeros([1,6])\n",
    "for i in x_axis:\n",
    "    pe=calculate_pred(learning_rate[0],i,theta)\n",
    "    er0.append(mean_squared_error(Y_test.values.tolist(),pe))\n",
    "for i in x_axis:\n",
    "    pe=calculate_pred(learning_rate[1],i,theta)\n",
    "    er1.append(mean_squared_error(Y_test.values.tolist(),pe))\n",
    "for i in x_axis:\n",
    "    pe=calculate_pred(learning_rate[2],i,theta)\n",
    "    er2.append(mean_squared_error(Y_test.values.tolist(),pe))\n",
    "fig,ax = plt.subplots()\n",
    "\n",
    "ax.plot(x_axis,er0,label='rate=0.01')\n",
    "ax.plot(er1,x_axis,label='rate=0.1')\n",
    "ax.plot(er2,x_axis,label='rate=0.001') \n",
    "ax.legend()\n",
    "ax.set_xlabel(\"Number of Interations\")\n",
    "ax.set_ylabel(\"mse\")\n",
    "ax.set_title(\"number of iteration vs mse\")\n",
    "plt.show()"
   ]
  },
  {
   "cell_type": "code",
   "execution_count": 30,
   "metadata": {},
   "outputs": [
    {
     "name": "stdout",
     "output_type": "stream",
     "text": [
      "0.5377272852274413\n",
      "23.32993995876293\n",
      "2.9729163214675958\n"
     ]
    }
   ],
   "source": [
    "\n",
    "learning_rate = 0.01\n",
    "iterations = 1000\n",
    "# theta = np.zeros(8) # 7 is the number of features\n",
    "theta = np.zeros([1,6])\n",
    "y_pred=calculate_pred(learning_rate,iterations,theta)\n",
    "print(r2_score(Y_test,y_pred))\n",
    "print(mean_squared_error(Y_test,y_pred))\n",
    "print(mean_absolute_percentage_error(Y_test.values.tolist(),y_pred))"
   ]
  },
  {
   "cell_type": "code",
   "execution_count": 31,
   "metadata": {},
   "outputs": [
    {
     "data": {
      "image/png": "[encoded data removed]",
      "text/plain": [
       "<Figure size 432x288 with 1 Axes>"
      ]
     },
     "metadata": {
      "needs_background": "light"
     },
     "output_type": "display_data"
    }
   ],
   "source": [
    "import random \n",
    "\n",
    "weights = []\n",
    "for i in range(3):\n",
    "    weights1=random.sample(range(1, 10), len(X_train[0]))\n",
    "    weights.append(weights1)\n",
    "\n",
    "theta0=np.array([weights[0]])\n",
    "theta1=np.array([weights[1]])\n",
    "theta2=np.array([weights[2]])\n",
    "\n",
    "x_axis = [100*i for i in range(1,11)]\n",
    "er0=[]\n",
    "er1=[]\n",
    "er2=[]\n",
    "learning_rate =0.1\n",
    "iterations = 1000\n",
    "\n",
    "for i in x_axis:\n",
    "    pe=calculate_pred(learning_rate,i,theta0)\n",
    "    er0.append(mean_squared_error(Y_test,pe))\n",
    "for i in x_axis:\n",
    "    pe=calculate_pred(learning_rate,i,theta1)\n",
    "    er1.append(mean_squared_error(Y_test,pe))\n",
    "for i in x_axis:\n",
    "    pe=calculate_pred(learning_rate,i,theta2)\n",
    "    er2.append(mean_squared_error(Y_test,pe))\n",
    "fig,ax = plt.subplots()\n",
    "ax.plot(x_axis,er0,label='theta0')\n",
    "ax.plot(x_axis,er1,label='theta1')\n",
    "ax.plot(x_axis,er2,label='theta2') \n",
    "ax.legend()\n",
    "ax.set_xlabel(\"Number of Interations\")\n",
    "ax.set_ylabel(\"mse\")\n",
    "ax.set_title(\"number of iteration vs mse\")\n",
    "plt.show()\n",
    "\n"
   ]
  },
  {
   "cell_type": "markdown",
   "metadata": {},
   "source": [
    "If you want to apply regression on some dataset but one of it’s features has missing values under below given conditions, how will you approach the problem. (No need of Code Experimentation)\n",
    "\n",
    "**(a) When 0-0.5% of values are missing of that feature.**\n",
    "\n",
    "We can fill all missing values with appropriate way. Since 99.5% data is avilable we can use it to predict the best possible value of that missing cell. \n",
    "\n",
    "Guessing: Guess the missing value from 99.5% data which is avialble.\n",
    "\n",
    "Average: Fill the missing value with average\n",
    "\n",
    "**2) When 8-10% of values are missing of that feature:**\n",
    "\n",
    "(a)Average:Take average if its a numerical data or else take mode if it is a categoriacal data\n",
    "\n",
    "(b)Regression Substitution: You can use multiple-regression analysis to estimate a missing value.Regression substitution predicts the missing value from the other values\n",
    "\n",
    "(c)Deletion:That row can be dropped\n",
    "\n",
    "**3) When 60-70% of values are missing of that feature**\n",
    "\n",
    "(a)Deletion: That whole column can be dropped\n"
   ]
  },
  {
   "cell_type": "code",
   "execution_count": null,
   "metadata": {},
   "outputs": [],
   "source": []
  },
  {
   "cell_type": "code",
   "execution_count": null,
   "metadata": {},
   "outputs": [],
   "source": []
  },
  {
   "cell_type": "code",
   "execution_count": null,
   "metadata": {},
   "outputs": [],
   "source": []
  },
  {
   "cell_type": "code",
   "execution_count": null,
   "metadata": {},
   "outputs": [],
   "source": []
  }
 ],
 "metadata": {
  "kernelspec": {
   "display_name": "Python 3",
   "language": "python",
   "name": "python3"
  },
  "language_info": {
   "codemirror_mode": {
    "name": "ipython",
    "version": 3
   },
   "file_extension": ".py",
   "mimetype": "text/x-python",
   "name": "python",
   "nbconvert_exporter": "python",
   "pygments_lexer": "ipython3",
   "version": "3.7.4"
  }
 },
 "nbformat": 4,
 "nbformat_minor": 2
}
