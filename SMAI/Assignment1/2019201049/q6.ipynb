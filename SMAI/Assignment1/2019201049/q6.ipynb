{
 "cells": [
  {
   "cell_type": "markdown",
   "metadata": {},
   "source": [
    "# Q.6 Assignment 2\n"
   ]
  },
  {
   "cell_type": "code",
   "execution_count": 35,
   "metadata": {},
   "outputs": [],
   "source": [
    "import numpy as np\n",
    "import pandas as pd\n",
    "from scipy.spatial import distance\n",
    "import os\n",
    "from sklearn.feature_extraction.text import TfidfTransformer\n",
    "from sklearn.feature_extraction.text import CountVectorizer\n",
    "import pandas as pd\n",
    "import numpy as np\n",
    "import random as rd\n",
    "from sklearn.preprocessing import StandardScaler\n",
    "from sklearn.decomposition import PCA\n",
    "from sklearn.cluster import KMeans\n",
    "from sklearn.feature_extraction.text import TfidfVectorizer\n",
    "import math\n",
    "import os"
   ]
  },
  {
   "cell_type": "markdown",
   "metadata": {},
   "source": [
    "#### Reading Files"
   ]
  },
  {
   "cell_type": "code",
   "execution_count": 9,
   "metadata": {},
   "outputs": [],
   "source": [
    "import os\n",
    "\n",
    "path = '/home/gsmodi/Music/OneDrive_1_29-02-2020/Datasets/q6'\n",
    "\n",
    "files = []\n",
    "for r, d, f in os.walk(path):\n",
    "    for file in f:\n",
    "        if '.txt' in file:\n",
    "            files.append(os.path.join(r, file))"
   ]
  },
  {
   "cell_type": "code",
   "execution_count": 10,
   "metadata": {},
   "outputs": [
    {
     "name": "stdout",
     "output_type": "stream",
     "text": [
      "1725\n"
     ]
    }
   ],
   "source": [
    "print(len(files))"
   ]
  },
  {
   "cell_type": "markdown",
   "metadata": {},
   "source": [
    "# Saving the file names from Directory"
   ]
  },
  {
   "cell_type": "code",
   "execution_count": 12,
   "metadata": {},
   "outputs": [
    {
     "name": "stdout",
     "output_type": "stream",
     "text": [
      "157_1.txt\n"
     ]
    }
   ],
   "source": [
    "print(os.path.basename(files[1]))"
   ]
  },
  {
   "cell_type": "code",
   "execution_count": 14,
   "metadata": {},
   "outputs": [],
   "source": [
    "f_idx=[]\n",
    "cluster_idx=[]"
   ]
  },
  {
   "cell_type": "code",
   "execution_count": 15,
   "metadata": {},
   "outputs": [],
   "source": [
    "for i in files:\n",
    "    f_idx.append(os.path.basename(i))\n",
    "    \n",
    "    "
   ]
  },
  {
   "cell_type": "markdown",
   "metadata": {},
   "source": [
    "# Saving the labels in Clusters_idx"
   ]
  },
  {
   "cell_type": "code",
   "execution_count": 16,
   "metadata": {},
   "outputs": [],
   "source": [
    "for i in f_idx:\n",
    "    cluster_idx.append(i[-5])\n",
    "#     print(i)\n",
    "#     print(i[-5])\n",
    "    "
   ]
  },
  {
   "cell_type": "code",
   "execution_count": 18,
   "metadata": {},
   "outputs": [
    {
     "name": "stdout",
     "output_type": "stream",
     "text": [
      "157_1.txt\n",
      "1\n"
     ]
    }
   ],
   "source": [
    "print(f_idx[1])\n",
    "print(cluster_idx[1])"
   ]
  },
  {
   "cell_type": "markdown",
   "metadata": {},
   "source": [
    "# Importing words from files in bagofwords"
   ]
  },
  {
   "cell_type": "code",
   "execution_count": 20,
   "metadata": {},
   "outputs": [],
   "source": [
    "bagofwords=[]"
   ]
  },
  {
   "cell_type": "code",
   "execution_count": 22,
   "metadata": {},
   "outputs": [],
   "source": [
    "\n",
    "for file in files:\n",
    "    fptr=open(file,'rb')\n",
    "    filedata=fptr.read().decode('utf-8','ignore')\n",
    "    bagofwords.append(filedata)"
   ]
  },
  {
   "cell_type": "code",
   "execution_count": 24,
   "metadata": {},
   "outputs": [],
   "source": [
    "from sklearn.feature_extraction.text import TfidfVectorizer\n",
    "vectorizer = TfidfVectorizer(stop_words = 'english', lowercase = 'true')\n",
    "X = vectorizer.fit_transform(bagofwords)"
   ]
  },
  {
   "cell_type": "code",
   "execution_count": 31,
   "metadata": {},
   "outputs": [],
   "source": [
    "x1 = X.toarray()"
   ]
  },
  {
   "cell_type": "code",
   "execution_count": 39,
   "metadata": {},
   "outputs": [],
   "source": [
    "def euclidean_distance(x,y):\n",
    "        return np.sum((x - y)**2)"
   ]
  },
  {
   "cell_type": "markdown",
   "metadata": {},
   "source": [
    "# Implementing K-means Algorithm"
   ]
  },
  {
   "cell_type": "markdown",
   "metadata": {},
   "source": [
    "### The way kmeans algorithm works is as follows:\n",
    "### 1.Specify number of clusters K.\n",
    "### 2.Initialize centroids by first shuffling the dataset and then randomly selecting K data points for the centroids without replacement.\n",
    "### 3.Keep iterating until there is no change to the centroids. i.e assignment of data points to clusters isn’t changing.\n",
    "### ->Compute the sum of the squared distance between data points and all centroids.\n",
    "### ->Assign each data point to the closest cluster (centroid).\n",
    "### ->Compute the centroids for the clusters by taking the average of the all data points that belong to each cluster."
   ]
  },
  {
   "cell_type": "code",
   "execution_count": 65,
   "metadata": {},
   "outputs": [],
   "source": [
    "centroid_with_each_cluster=[]\n",
    "random_number=[]\n",
    "\n",
    "from random import seed\n",
    "from random import randint\n",
    "\n",
    "\n",
    "def kmeans(K,df):\n",
    "\n",
    "        d = df.shape[1] \n",
    "        n = df.shape[0]\n",
    "        Max_Iterations = 20\n",
    "        i = 0\n",
    "    \n",
    "        cluster = [0] * n\n",
    "    \n",
    "        cluster_centers = [df.iloc[randint(0,n)] for _ in range(K) ]  #rd.choice(df)  \n",
    "    \n",
    "        while(i < Max_Iterations):\n",
    "            i += 1\n",
    "            \n",
    "            for p in range(n):\n",
    "                min_dist = float(\"inf\")\n",
    "                for c in range(K):\n",
    "                    dist =euclidean_distance(df.iloc[p],cluster_centers[c])\n",
    "                    if (dist < min_dist):\n",
    "                        min_dist = dist  \n",
    "                        cluster[p] = c+1\n",
    "            \n",
    "            new_center = [[0.0]*d] * K\n",
    "            members = [0]*K\n",
    "            for p in range(n):\n",
    "                new_center[cluster[p]-1] = np.add(new_center[cluster[p]-1], df.iloc[p])\n",
    "                members[cluster[p]-1] += 1\n",
    "            \n",
    "            for j in range(K):\n",
    "                    if members[j] != 0:\n",
    "                        new_center[j] = new_center[j] / float(members[j]) \n",
    "                    else: \n",
    "                        new_center[j] = df.iloc[randint(0,n)] #rd.choice(df)\n",
    "            \n",
    "            cluster_centers = new_center.copy()\n",
    "        return cluster\n",
    "\n",
    "        "
   ]
  },
  {
   "cell_type": "code",
   "execution_count": 66,
   "metadata": {},
   "outputs": [
    {
     "name": "stdout",
     "output_type": "stream",
     "text": [
      "[1, 2, 5, 1, 3, 1, 5, 5, 2, 1, 4, 4, 2, 5, 1, 1, 4, 2, 4, 2, 1, 1, 1, 5, 4, 2, 2, 1, 1, 5, 3, 5, 3, 3, 5, 4, 3, 1, 2, 5, 5, 5, 1, 3, 2, 2, 2, 5, 5, 1, 1, 1, 2, 1, 1, 2, 4, 5, 5, 5, 3, 3, 2, 5, 4, 1, 1, 1, 4, 4, 5, 2, 1, 5, 3, 1, 2, 5, 5, 5, 1, 2, 1, 5, 2, 4, 5, 4, 5, 5, 2, 2, 3, 2, 3, 4, 2, 2, 5, 1, 5, 5, 5, 4, 4, 4, 2, 4, 2, 3, 5, 4, 4, 4, 1, 1, 1, 2, 4, 1, 1, 5, 5, 2, 5, 1, 2, 2, 5, 3, 4, 5, 2, 3, 5, 5, 4, 4, 2, 2, 1, 1, 4, 1, 5, 1, 4, 4, 5, 4, 5, 2, 2, 1, 5, 2, 3, 5, 4, 3, 1, 4, 4, 4, 1, 1, 1, 5, 5, 2, 3, 5, 1, 4, 1, 5, 2, 1, 4, 1, 3, 4, 2, 4, 5, 5, 5, 4, 3, 5, 5, 4, 3, 5, 3, 3, 4, 5, 3, 2, 2, 2, 5, 4, 4, 1, 1, 4, 5, 1, 5, 5, 2, 4, 1, 2, 1, 4, 5, 4, 1, 4, 4, 3, 4, 1, 2, 2, 3, 1, 1, 5, 4, 2, 2, 3, 4, 5, 4, 2, 3, 5, 2, 5, 4, 5, 2, 5, 2, 3, 2, 2, 1, 5, 5, 2, 4, 1, 3, 2, 5, 1, 3, 5, 1, 1, 2, 2, 2, 5, 4, 4, 5, 5, 4, 2, 5, 2, 2, 1, 2, 5, 1, 2, 1, 1, 1, 1, 5, 3, 1, 5, 1, 5, 5, 2, 1, 1, 1, 1, 4, 2, 1, 4, 1, 4, 1, 5, 4, 2, 4, 2, 1, 4, 2, 4, 1, 5, 2, 4, 4, 1, 4, 5, 4, 5, 5, 1, 4, 2, 2, 2, 5, 2, 1, 1, 4, 2, 5, 2, 5, 4, 4, 2, 4, 2, 1, 1, 3, 1, 2, 2, 1, 5, 5, 5, 1, 5, 2, 4, 1, 4, 5, 5, 5, 4, 2, 2, 2, 5, 2, 4, 2, 4, 1, 5, 5, 2, 3, 4, 5, 2, 4, 2, 2, 4, 2, 1, 2, 1, 4, 2, 5, 2, 5, 5, 4, 5, 1, 1, 4, 5, 2, 5, 1, 1, 2, 1, 1, 2, 2, 4, 2, 4, 4, 1, 5, 4, 1, 2, 5, 5, 4, 4, 5, 2, 4, 5, 5, 4, 1, 2, 4, 1, 3, 2, 2, 1, 4, 2, 5, 5, 4, 4, 3, 4, 5, 2, 4, 1, 4, 5, 1, 2, 1, 4, 3, 1, 4, 4, 4, 1, 1, 2, 4, 1, 3, 5, 4, 2, 2, 4, 5, 1, 5, 5, 5, 4, 1, 3, 1, 2, 5, 4, 4, 4, 1, 4, 3, 5, 1, 1, 4, 4, 4, 2, 1, 4, 5, 5, 1, 2, 2, 3, 3, 3, 4, 1, 3, 4, 2, 5, 4, 2, 2, 1, 4, 4, 1, 1, 1, 1, 5, 5, 5, 1, 2, 4, 5, 4, 2, 1, 2, 2, 5, 4, 2, 5, 1, 4, 2, 1, 1, 5, 5, 5, 4, 3, 5, 2, 2, 1, 2, 2, 4, 4, 4, 1, 1, 5, 5, 5, 2, 2, 2, 2, 5, 5, 1, 1, 2, 4, 3, 1, 2, 5, 5, 4, 4, 1, 1, 2, 1, 4, 1, 1, 5, 4, 5, 4, 5, 5, 5, 4, 2, 4, 4, 4, 3, 5, 2, 1, 5, 3, 1, 1, 2, 2, 2, 5, 4, 1, 1, 4, 4, 5, 2, 5, 4, 1, 2, 2, 2, 5, 3, 4, 2, 5, 2, 5, 4, 2, 2, 1, 2, 5, 1, 4, 1, 2, 1, 2, 2, 4, 2, 1, 2, 4, 5, 1, 5, 5, 1, 3, 5, 2, 1, 4, 5, 5, 1, 5, 4, 2, 1, 4, 2, 1, 4, 4, 4, 4, 3, 4, 3, 4, 4, 1, 2, 2, 4, 5, 4, 5, 4, 5, 5, 2, 4, 5, 2, 5, 5, 4, 5, 1, 3, 4, 1, 2, 4, 2, 1, 4, 2, 5, 5, 1, 4, 4, 3, 4, 2, 2, 3, 4, 5, 5, 5, 5, 1, 1, 4, 4, 2, 2, 5, 4, 1, 5, 1, 2, 1, 3, 3, 5, 4, 5, 5, 5, 1, 1, 2, 2, 5, 2, 5, 2, 4, 4, 3, 5, 1, 5, 1, 2, 2, 1, 4, 1, 4, 1, 5, 5, 4, 5, 3, 3, 1, 1, 5, 4, 4, 5, 1, 2, 5, 1, 4, 1, 3, 5, 2, 3, 2, 5, 4, 2, 1, 4, 3, 5, 5, 1, 4, 1, 5, 4, 2, 2, 4, 2, 2, 1, 1, 2, 2, 5, 5, 1, 2, 3, 1, 5, 1, 2, 4, 4, 1, 4, 4, 1, 1, 5, 5, 5, 5, 4, 2, 4, 1, 4, 4, 1, 2, 1, 1, 4, 2, 2, 1, 3, 5, 4, 1, 4, 4, 1, 2, 4, 5, 3, 1, 1, 2, 1, 2, 1, 4, 5, 5, 2, 1, 1, 2, 4, 1, 5, 5, 4, 4, 4, 2, 3, 3, 4, 5, 4, 5, 4, 1, 4, 5, 4, 5, 3, 5, 5, 5, 4, 4, 5, 3, 5, 2, 4, 1, 5, 5, 1, 5, 2, 3, 4, 1, 1, 2, 5, 3, 1, 2, 5, 5, 4, 3, 3, 4, 1, 4, 5, 2, 4, 4, 2, 2, 1, 5, 4, 1, 5, 5, 3, 5, 5, 4, 4, 5, 4, 3, 5, 1, 2, 1, 5, 4, 1, 2, 5, 3, 5, 5, 2, 3, 2, 3, 2, 5, 1, 2, 2, 4, 4, 1, 3, 2, 3, 4, 3, 3, 1, 2, 2, 4, 3, 1, 1, 1, 3, 2, 4, 4, 1, 4, 2, 1, 2, 5, 2, 4, 5, 5, 1, 2, 1, 2, 2, 2, 1, 1, 4, 3, 2, 1, 5, 1, 5, 2, 5, 1, 2, 5, 5, 1, 2, 5, 4, 4, 5, 1, 4, 5, 4, 1, 2, 2, 1, 4, 2, 5, 4, 5, 4, 4, 4, 3, 5, 1, 3, 1, 5, 1, 4, 3, 1, 4, 2, 2, 4, 2, 3, 4, 2, 2, 5, 4, 5, 1, 2, 2, 3, 2, 1, 3, 5, 4, 1, 5, 1, 1, 4, 4, 2, 4, 3, 3, 1, 1, 3, 5, 1, 4, 3, 2, 1, 5, 4, 1, 1, 4, 1, 1, 2, 1, 2, 1, 4, 3, 5, 4, 4, 4, 1, 2, 2, 2, 5, 2, 4, 2, 4, 2, 1, 4, 5, 5, 2, 3, 1, 5, 2, 3, 1, 2, 5, 5, 5, 4, 3, 5, 1, 5, 4, 2, 4, 4, 5, 5, 3, 3, 1, 4, 4, 2, 2, 5, 4, 4, 3, 4, 1, 2, 4, 1, 1, 5, 1, 4, 1, 4, 4, 2, 2, 5, 1, 5, 4, 4, 4, 5, 3, 1, 4, 4, 5, 5, 1, 5, 3, 3, 1, 2, 1, 1, 2, 4, 3, 5, 1, 4, 3, 1, 1, 3, 5, 4, 1, 1, 5, 1, 5, 1, 2, 4, 1, 3, 2, 2, 5, 2, 4, 5, 3, 5, 2, 5, 2, 1, 2, 2, 5, 3, 3, 5, 1, 4, 3, 4, 1, 4, 3, 4, 4, 3, 2, 4, 2, 1, 4, 2, 4, 2, 2, 1, 1, 2, 5, 2, 3, 5, 4, 2, 1, 1, 5, 1, 1, 2, 2, 5, 2, 2, 4, 5, 5, 1, 4, 4, 5, 5, 1, 2, 5, 2, 5, 4, 1, 4, 5, 1, 1, 4, 5, 1, 4, 1, 2, 5, 5, 5, 1, 2, 5, 5, 5, 2, 1, 4, 5, 4, 2, 4, 5, 2, 5, 4, 5, 4, 2, 4, 5, 4, 1, 5, 3, 5, 5, 1, 2, 3, 2, 4, 1, 1, 1, 4, 4, 5, 2, 5, 2, 4, 5, 1, 3, 2, 2, 1, 4, 2, 3, 1, 4, 1, 2, 1, 4, 1, 4, 1, 5, 4, 4, 4, 1, 4, 1, 1, 3, 1, 5, 3, 5, 1, 3, 5, 5, 2, 1, 1, 5, 4, 2, 4, 5, 3, 3, 2, 1, 4, 1, 2, 2, 1, 1, 2, 4, 1, 3, 3, 3, 5, 4, 3, 1, 1, 4, 2, 1, 4, 2, 4, 4, 5, 2, 2, 5, 2, 3, 1, 5, 1, 4, 2, 1, 5, 3, 1, 4, 1, 1, 5, 4, 2, 2, 2, 2, 5, 1, 3, 5, 4, 2, 4, 4, 3, 4, 1, 4, 3, 2, 2, 5, 2, 1, 3, 4, 5, 5, 1, 1, 4, 2, 2, 3, 2, 4, 4, 4, 3, 5, 4, 4, 1, 1, 4, 5, 4, 1, 5, 3, 4, 4, 5, 5, 3, 5, 2, 5, 3, 4, 4, 1, 4, 5, 1, 1, 1, 5, 1, 2, 4, 2, 1, 2, 1, 3, 1, 3, 5, 5, 5, 1, 1, 5, 2, 5, 1, 2, 2, 5, 2, 4, 3, 2, 1, 3, 3, 1, 5, 2, 2, 2, 5, 5, 3, 2, 1, 2, 5, 1, 4, 4, 4, 3, 4, 5, 1, 4, 1, 1, 5, 2, 4, 1, 4, 2, 1, 5, 4, 5, 2, 5, 2, 2, 1, 3, 3, 4, 4, 1, 3, 1, 1, 1, 4, 4, 1, 1, 4, 3, 5, 5, 3, 1, 4, 4, 1, 2, 2, 5, 1, 1, 1, 3, 4, 2, 5, 4, 3, 4, 5, 4, 4, 5, 5, 4, 5, 4, 4, 1, 5, 1, 3, 2, 4, 1, 1, 5, 2, 4, 4, 4, 4, 5, 1, 2, 3, 1, 2, 3, 2, 1, 3, 4, 5, 5, 2, 1, 2, 4, 5, 4, 1, 5, 2, 2, 1, 3, 2, 4, 1, 1, 4, 5, 2, 4, 4, 5, 4, 4, 2, 5, 3, 5, 2, 5, 2, 5, 1, 1, 5, 1, 2, 5, 3, 4, 4, 4, 2, 1, 1, 4, 2, 3, 1, 5, 3, 2, 4, 3, 4, 2, 4, 4, 4, 4, 5, 1, 2, 1, 4, 1, 3, 1, 5, 2, 1, 1, 1, 1, 4, 3, 4, 2, 5, 5, 1, 5, 2, 4, 5, 4, 4, 3, 5, 4, 2, 1, 1, 4, 2, 5, 1, 4, 5]\n"
     ]
    }
   ],
   "source": [
    "df=pd.DataFrame(x1)\n",
    "c1=kmeans(5,df)\n",
    "print(c1)\n"
   ]
  },
  {
   "cell_type": "code",
   "execution_count": 68,
   "metadata": {},
   "outputs": [],
   "source": [
    "start=[]\n",
    "for i in f_idx:\n",
    "    start.append(int(i[-5]))"
   ]
  },
  {
   "cell_type": "markdown",
   "metadata": {},
   "source": [
    "# Predicting Homogeneity Score "
   ]
  },
  {
   "cell_type": "code",
   "execution_count": 70,
   "metadata": {},
   "outputs": [
    {
     "data": {
      "text/plain": [
       "0.6749870549348257"
      ]
     },
     "execution_count": 70,
     "metadata": {},
     "output_type": "execute_result"
    }
   ],
   "source": [
    "from sklearn.metrics.cluster import homogeneity_score\n",
    "homogeneity_score(start,c1)"
   ]
  },
  {
   "cell_type": "code",
   "execution_count": null,
   "metadata": {},
   "outputs": [],
   "source": []
  }
 ],
 "metadata": {
  "kernelspec": {
   "display_name": "Python 3",
   "language": "python",
   "name": "python3"
  },
  "language_info": {
   "codemirror_mode": {
    "name": "ipython",
    "version": 3
   },
   "file_extension": ".py",
   "mimetype": "text/x-python",
   "name": "python",
   "nbconvert_exporter": "python",
   "pygments_lexer": "ipython3",
   "version": "3.7.4"
  }
 },
 "nbformat": 4,
 "nbformat_minor": 2
}
