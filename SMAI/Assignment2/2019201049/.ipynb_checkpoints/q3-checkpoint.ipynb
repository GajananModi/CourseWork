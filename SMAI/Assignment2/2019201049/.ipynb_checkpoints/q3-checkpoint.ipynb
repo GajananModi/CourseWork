{
 "cells": [
  {
   "cell_type": "markdown",
   "metadata": {},
   "source": [
    "## Q3"
   ]
  },
  {
   "cell_type": "code",
   "execution_count": 14,
   "metadata": {},
   "outputs": [],
   "source": [
    "\n",
    "import numpy as np\n",
    "import pandas as pd\n",
    "\n",
    "import numpy as np\n",
    "from numpy import log2 as log\n",
    "import pandas as pd\n",
    "from sklearn import tree, preprocessing\n",
    "from sklearn.model_selection import train_test_split\n",
    "from sklearn.metrics import accuracy_score, confusion_matrix, classification_report\n",
    "from sklearn.metrics import mean_squared_error\n",
    "from statistics import mean \n",
    "\n",
    "eps = np.finfo(float).eps"
   ]
  },
  {
   "cell_type": "markdown",
   "metadata": {},
   "source": [
    "#### We obeserved dataset using info function in pandas which describe each column, we found that someN values which never helps us in making decision\n",
    "\n",
    "#### Hence  We drop some column using drop() function which eill not affect prediction\n",
    "\n",
    "#### Still some column having data with NaN  Now  we divide data into two types categorical data and Numerical Data \n",
    "\n",
    "#### In numerical Data we Replace NaN with mean considering that it will not affect on decision factor\n",
    "\n",
    "#### Same In case of categorical data we replace with most frequent occured Value\n",
    "\n"
   ]
  },
  {
   "cell_type": "code",
   "execution_count": 15,
   "metadata": {},
   "outputs": [
    {
     "name": "stdout",
     "output_type": "stream",
     "text": [
      "<class 'pandas.core.frame.DataFrame'>\n",
      "RangeIndex: 1000 entries, 0 to 999\n",
      "Data columns (total 70 columns):\n",
      "MSSubClass       1000 non-null int64\n",
      "MSZoning         1000 non-null object\n",
      "LotFrontage      1000 non-null float64\n",
      "LotArea          1000 non-null int64\n",
      "Street           1000 non-null object\n",
      "LotShape         1000 non-null object\n",
      "LandContour      1000 non-null object\n",
      "LotConfig        1000 non-null object\n",
      "LandSlope        1000 non-null object\n",
      "Neighborhood     1000 non-null object\n",
      "Condition1       1000 non-null object\n",
      "BldgType         1000 non-null object\n",
      "HouseStyle       1000 non-null object\n",
      "OverallQual      1000 non-null int64\n",
      "OverallCond      1000 non-null int64\n",
      "YearBuilt        1000 non-null int64\n",
      "YearRemodAdd     1000 non-null int64\n",
      "RoofStyle        1000 non-null object\n",
      "RoofMatl         1000 non-null object\n",
      "Exterior1st      1000 non-null object\n",
      "Exterior2nd      1000 non-null object\n",
      "MasVnrType       1000 non-null object\n",
      "MasVnrArea       1000 non-null float64\n",
      "ExterQual        1000 non-null object\n",
      "ExterCond        1000 non-null object\n",
      "Foundation       1000 non-null object\n",
      "BsmtQual         1000 non-null object\n",
      "BsmtCond         1000 non-null object\n",
      "BsmtExposure     1000 non-null object\n",
      "BsmtFinType1     1000 non-null object\n",
      "BsmtFinSF1       1000 non-null int64\n",
      "BsmtFinType2     1000 non-null object\n",
      "BsmtFinSF2       1000 non-null int64\n",
      "BsmtUnfSF        1000 non-null int64\n",
      "TotalBsmtSF      1000 non-null int64\n",
      "Heating          1000 non-null object\n",
      "HeatingQC        1000 non-null object\n",
      "CentralAir       1000 non-null object\n",
      "Electrical       1000 non-null object\n",
      "1stFlrSF         1000 non-null int64\n",
      "2ndFlrSF         1000 non-null int64\n",
      "LowQualFinSF     1000 non-null int64\n",
      "GrLivArea        1000 non-null int64\n",
      "BsmtFullBath     1000 non-null int64\n",
      "FullBath         1000 non-null int64\n",
      "HalfBath         1000 non-null int64\n",
      "BedroomAbvGr     1000 non-null int64\n",
      "KitchenAbvGr     1000 non-null int64\n",
      "KitchenQual      1000 non-null object\n",
      "TotRmsAbvGrd     1000 non-null int64\n",
      "Functional       1000 non-null object\n",
      "Fireplaces       1000 non-null int64\n",
      "GarageType       1000 non-null object\n",
      "GarageYrBlt      1000 non-null float64\n",
      "GarageFinish     1000 non-null object\n",
      "GarageCars       1000 non-null int64\n",
      "GarageArea       1000 non-null int64\n",
      "GarageCond       1000 non-null object\n",
      "PavedDrive       1000 non-null object\n",
      "WoodDeckSF       1000 non-null int64\n",
      "OpenPorchSF      1000 non-null int64\n",
      "EnclosedPorch    1000 non-null int64\n",
      "3SsnPorch        1000 non-null int64\n",
      "ScreenPorch      1000 non-null int64\n",
      "MiscVal          1000 non-null int64\n",
      "MoSold           1000 non-null int64\n",
      "YrSold           1000 non-null int64\n",
      "SaleType         1000 non-null object\n",
      "SaleCondition    1000 non-null object\n",
      "SalePrice        1000 non-null int64\n",
      "dtypes: float64(3), int64(32), object(35)\n",
      "memory usage: 547.0+ KB\n",
      "None\n"
     ]
    }
   ],
   "source": [
    "df0  = pd.read_csv('/home/gsmodi/2SMAI/Assignment1 Dataset/Datasets/q3/train.csv')\n",
    "df0.replace(to_replace =\"NA\", value =np.nan,inplace=True)\n",
    "df0 = df0.drop(df0.columns[0],axis=1)\n",
    "df0.drop(['Alley','PoolQC','FireplaceQu','MiscFeature','Fence','Utilities','Condition2','PoolArea','BsmtHalfBath','GarageQual'],inplace=True,axis = 1 )\n",
    "\n",
    "df0['LotFrontage'].fillna(df0['LotFrontage'].mean(), inplace=True)\n",
    "df0['MasVnrArea'].fillna(df0['MasVnrArea'].mean(), inplace=True)\n",
    "df0['GarageYrBlt'].fillna(df0['GarageYrBlt'].mean(), inplace=True)\n",
    "df0['BsmtQual'].fillna(df0['BsmtQual'].mode()[0], inplace=True)\n",
    "df0['BsmtCond'].fillna(df0['BsmtCond'].mode()[0], inplace=True)\n",
    "df0['BsmtExposure'].fillna(df0['BsmtExposure'].mode()[0], inplace=True)\n",
    "df0['BsmtFinType1'].fillna(df0['BsmtFinType1'].mode()[0], inplace=True)\n",
    "df0['BsmtFinType2'].fillna(df0['BsmtFinType2'].mode()[0], inplace=True)\n",
    "df0['Electrical'].fillna(df0['Electrical'].mode()[0], inplace=True)\n",
    "df0['MasVnrType'].fillna(df0['MasVnrType'].mode()[0], inplace=True)\n",
    "df0[\"GarageCond\"].fillna(df0[\"GarageCond\"].mode()[0], inplace=True)\n",
    "df0[\"GarageType\"].fillna(df0[\"GarageType\"].mode()[0], inplace=True)\n",
    "df0[\"GarageFinish\"].fillna(df0[\"GarageFinish\"].mode()[0], inplace=True)\n",
    "\n",
    "print(df0.info())"
   ]
  },
  {
   "cell_type": "code",
   "execution_count": null,
   "metadata": {},
   "outputs": [],
   "source": []
  },
  {
   "cell_type": "code",
   "execution_count": 16,
   "metadata": {},
   "outputs": [
    {
     "name": "stdout",
     "output_type": "stream",
     "text": [
      "   MSSubClass MSZoning  LotFrontage  LotArea Street LotShape LandContour  \\\n",
      "0          60       RL    99.000000    12099   Pave      IR1         Lvl   \n",
      "1          20       RL    89.000000    13214   Pave      IR1         HLS   \n",
      "2         120       RM    32.000000     4500   Pave      Reg         Lvl   \n",
      "3         160       FV    30.000000     3000   Pave      Reg         Lvl   \n",
      "4          20       RL    71.310303     6897   Pave      IR1         Lvl   \n",
      "\n",
      "  LotConfig LandSlope Neighborhood  ... OpenPorchSF EnclosedPorch 3SsnPorch  \\\n",
      "0    Inside       Gtl      NridgHt  ...         154             0         0   \n",
      "1    Inside       Gtl       Timber  ...          76             0         0   \n",
      "2       FR2       Gtl      Mitchel  ...         199             0         0   \n",
      "3    Inside       Gtl      Somerst  ...         234             0         0   \n",
      "4    Corner       Gtl       Sawyer  ...         104             0         0   \n",
      "\n",
      "   ScreenPorch  MiscVal  MoSold  YrSold SaleType SaleCondition SalePrice  \n",
      "0            0        0       6    2007       WD        Normal    354000  \n",
      "1            0        0       5    2010       WD        Normal    378500  \n",
      "2            0        0       3    2006       WD        Normal    153500  \n",
      "3            0        0       6    2009      New       Partial    173733  \n",
      "4            0        0       4    2010       WD        Normal    127000  \n",
      "\n",
      "[5 rows x 70 columns]\n"
     ]
    }
   ],
   "source": [
    "print(df0.head())"
   ]
  },
  {
   "cell_type": "markdown",
   "metadata": {},
   "source": [
    "## In this fuction mean squared error is calculated"
   ]
  },
  {
   "cell_type": "code",
   "execution_count": null,
   "metadata": {},
   "outputs": [],
   "source": [
    "def mse_calculate(a,b):\n",
    "    return  mean_squared_error(a,b,squared='True')"
   ]
  },
  {
   "cell_type": "markdown",
   "metadata": {},
   "source": [
    "### Class_mse  returns list containing two element one is minimum  of mean squarred error  which calculated on class_label \n",
    "### Other element is value in class_label at which we get minimum value\n",
    "\n",
    "### This function helps us to decide at which value of classlabel helps us to split dataframe and give optimum result"
   ]
  },
  {
   "cell_type": "code",
   "execution_count": null,
   "metadata": {},
   "outputs": [],
   "source": [
    "def class_mse(df,class_label):\n",
    "    class_mse = 0\n",
    "    values = df[class_label].unique()\n",
    "    list_mse=[]\n",
    "    for val in values:\n",
    "        temp_mse=[]\n",
    "        df1=df.loc[df[class_label] == val,'sales_Price']\n",
    "        price=df1.values.tolist()\n",
    "        mean_price=mean(price)\n",
    "        a=[]\n",
    "        a.append(mean_price)\n",
    "        b=df['SalesPrice'].values.tolist()\n",
    "        a=a*len()\n",
    "        class_mse = mse_calculate(b,a)\n",
    "        temp_mse.append(class_mse)\n",
    "        temp_mse.append(val)\n",
    "        list_mse.append(temp_mse)\n",
    "        \n",
    "    list_mse.sort()\n",
    "        \n",
    "        \n",
    "    return list_mse[0]"
   ]
  },
  {
   "cell_type": "markdown",
   "metadata": {},
   "source": [
    "### This Function actually collects the minimum mean squared error of each dataset label and finds the root for current dataset"
   ]
  },
  {
   "cell_type": "code",
   "execution_count": null,
   "metadata": {},
   "outputs": [],
   "source": [
    "def feature_to_select(df):\n",
    "    gain = []\n",
    "    for key in df.keys()[:-1]:\n",
    "        gain.append(class_mse(df),key)\n",
    "    return df.keys()[:-1][np.argmax(gain)]"
   ]
  },
  {
   "cell_type": "markdown",
   "metadata": {},
   "source": [
    "### Algorithm Used\n",
    "   1.Find split positions gives the unique values for each column/attribute on which we can get a split and as mentioned in above functions\n",
    "   2.The following function divides the data on the basis of the given column name and the value corresponding to that column.If the split value is continuous then it uses >=,< condition else it uses ==,!= conditions\n",
    "   3.The 'Positive' becomes the left child of the node and 'Negative' becomes the right child of the node. We call this recursively until we reach the leaf which happens when we reach the max depth or the number of rows,values are less than min samples"
   ]
  },
  {
   "cell_type": "code",
   "execution_count": null,
   "metadata": {},
   "outputs": [],
   "source": [
    "class Node:\n",
    "def __init__(self,feature,positive=0,negative=0):\n",
    "        self.feature=feature\n",
    "        self.split_pos=0\n",
    "        self.mse=0.0\n",
    "        self.key=0\n",
    "        self.left=None\n",
    "        self.right=None"
   ]
  },
  {
   "cell_type": "code",
   "execution_count": null,
   "metadata": {},
   "outputs": [],
   "source": [
    "def build_Tree(df):\n",
    "    if len(df.columns)==1:\n",
    "        return None\n",
    "    \n",
    "    split_node = feature_to_select(df)\n",
    "    root = Node(split_node)\n",
    "    root.positive=len(df[df['left']==1]['left'])\n",
    "    root.negative=len(df[df['left']==0]['left'])\n",
    "\n",
    "    \n",
    "\n",
    "    if len(counts_left)>1:\n",
    "        root.left=build_Tree(subtable_left)\n",
    "    \n",
    "    if len(counts_right)>1:\n",
    "        root.right=build_Tree(subtable_right)\n",
    "        \n",
    "    return root"
   ]
  },
  {
   "cell_type": "code",
   "execution_count": null,
   "metadata": {},
   "outputs": [],
   "source": []
  },
  {
   "cell_type": "code",
   "execution_count": null,
   "metadata": {},
   "outputs": [],
   "source": [
    "def rec_predict(df,root,prediction):\n",
    "    if  df == None:\n",
    "        return None\n",
    "        try:\n",
    "            if root.right==None and root.left==None:\n",
    "                prediction.append(1 if root.positive>root.negative else 0)\n",
    "                return\n",
    "\n",
    "            if root.right==None and df[root.feature]>=root.split_pos:\n",
    "                prediction.append(1 if root.positive>root.negative else 0)\n",
    "                return\n",
    "\n",
    "            if root.left==None and df[root.feature]<root.split_pos:\n",
    "                prediction.append(1 if root.positive>root.negative else 0)\n",
    "                return\n",
    "\n",
    "            if df[root.feature]<root.split_pos:\n",
    "                rec_predict(df,root.left,prediction)\n",
    "            else:\n",
    "                rec_predict(df,root.right,prediction)\n",
    "        except KeyError:\n",
    "            if root.left==None:\n",
    "                prediction.append(1 if root.positive>root.negative else 0)\n",
    "                return\n",
    "            rec_predict(df,root.left,prediction)\n",
    " \n",
    "            \n",
    "def predict(df,root,prediction):\n",
    "    for col,row in df.iterrows():\n",
    "        rec_predict(row,root,prediction)\n"
   ]
  }
 ],
 "metadata": {
  "kernelspec": {
   "display_name": "Python 3",
   "language": "python",
   "name": "python3"
  },
  "language_info": {
   "codemirror_mode": {
    "name": "ipython",
    "version": 3
   },
   "file_extension": ".py",
   "mimetype": "text/x-python",
   "name": "python",
   "nbconvert_exporter": "python",
   "pygments_lexer": "ipython3",
   "version": "3.7.4"
  }
 },
 "nbformat": 4,
 "nbformat_minor": 2
}
