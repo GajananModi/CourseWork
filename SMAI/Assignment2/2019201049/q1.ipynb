{
 "cells": [
  {
   "cell_type": "markdown",
   "metadata": {},
   "source": [
    "## q-1\n",
    "#### Use different distance measures as applicable.  Plot graph to report accuracy with change  in  value  of  K."
   ]
  },
  {
   "cell_type": "code",
   "execution_count": 34,
   "metadata": {},
   "outputs": [],
   "source": [
    "import numpy as np\n",
    "from numpy import log2 as log\n",
    "import pandas as pd\n",
    "from sklearn import preprocessing\n",
    "from sklearn.model_selection import train_test_split\n",
    "from sklearn.metrics import accuracy_score, confusion_matrix, classification_report\n",
    "from sklearn.neighbors import KNeighborsClassifier\n",
    "import operator\n",
    "import sys\n",
    "\n",
    "from pylab import *\n",
    "import matplotlib\n",
    "import matplotlib.pyplot as plt"
   ]
  },
  {
   "cell_type": "markdown",
   "metadata": {},
   "source": [
    "#### Here we use inbuilt library KNeighborsClassifier to implement the knn classifier\n",
    "#### We got accuracy score with inbuit library as 0.95625\n",
    "#### We obeseve that result given by inbuit LIbrary is pretty faster than our own algorithm\n",
    "#### Implementation of kd tree can be reason behind it\n"
   ]
  },
  {
   "cell_type": "code",
   "execution_count": 35,
   "metadata": {},
   "outputs": [
    {
     "name": "stdout",
     "output_type": "stream",
     "text": [
      "[[411   0   0   0   0   1   2   0   0   0]\n",
      " [  0 456   1   0   1   0   0   1   0   0]\n",
      " [  3   6 368   3   0   0   1   8   1   1]\n",
      " [  2   3   3 399   0   3   0   2   2   2]\n",
      " [  0   3   0   0 334   0   0   0   0   9]\n",
      " [  2   3   2   2   1 365   5   0   1   3]\n",
      " [  1   1   0   0   1   1 380   0   0   0]\n",
      " [  0   4   0   0   2   0   0 401   1   4]\n",
      " [  1  12   1   6   5   7   3   0 341   8]\n",
      " [  2   0   1   2   3   0   0   6   0 396]]\n",
      "              precision    recall  f1-score   support\n",
      "\n",
      "           0       0.97      0.99      0.98       414\n",
      "           1       0.93      0.99      0.96       459\n",
      "           2       0.98      0.94      0.96       391\n",
      "           3       0.97      0.96      0.96       416\n",
      "           4       0.96      0.97      0.96       346\n",
      "           5       0.97      0.95      0.96       384\n",
      "           6       0.97      0.99      0.98       384\n",
      "           7       0.96      0.97      0.97       412\n",
      "           8       0.99      0.89      0.93       384\n",
      "           9       0.94      0.97      0.95       410\n",
      "\n",
      "    accuracy                           0.96      4000\n",
      "   macro avg       0.96      0.96      0.96      4000\n",
      "weighted avg       0.96      0.96      0.96      4000\n",
      "\n",
      "0.96275\n"
     ]
    }
   ],
   "source": [
    "# filename = sys.argv[1]\n",
    "dataset = pd.read_csv('/home/gsmodi/2SMAI/Assignment1 Dataset/Datasets/q1/train.csv',header=None)\n",
    "X = dataset.iloc[:, 1: 785].values        #independent variables\n",
    "Y = dataset.iloc[:, 0].values             #dependent variables\n",
    "\n",
    "\n",
    " \n",
    "    \n",
    "\n",
    "\n",
    "# In[4]:\n",
    "\n",
    "\n",
    "X_train, X_test, Y_train, Y_test = train_test_split(X, Y,test_size=0.2)\n",
    "y_test=Y_test.tolist()\n",
    "s1 = pd.Series([X_train])\n",
    "s2 = pd.Series([Y_train])\n",
    "df1=pd.concat([s1, s2],axis=1)\n",
    "neigh = KNeighborsClassifier(n_neighbors=5)\n",
    "neigh.fit(X_train, Y_train)\n",
    "p = neigh.predict(X_test)\n",
    "print (confusion_matrix(Y_test,p))\n",
    "print (classification_report(Y_test,p))\n",
    "print (accuracy_score(Y_test,p))"
   ]
  },
  {
   "cell_type": "raw",
   "metadata": {},
   "source": [
    "neigh = KNeighborsClassifier(n_neighbors=5)\n",
    "neigh.fit(X_train, Y_train)\n",
    "p = neigh.predict(X_test)\n",
    "print confusion_matrix(Y_test,p)\n",
    "print classification_report(Y_test,p)\n",
    "print accuracy_score(Y_test,p)"
   ]
  },
  {
   "cell_type": "markdown",
   "metadata": {},
   "source": [
    "#### As the name suggest functions are calculating manahattan distance\n",
    "#### Below line use the numpy array broadcasting \n",
    "#### This helps us to get result of distance as early as possible"
   ]
  },
  {
   "cell_type": "code",
   "execution_count": 36,
   "metadata": {},
   "outputs": [],
   "source": [
    "def manhattan_distance(a, b):\n",
    "    res=np.sum(abs(a-b),axis=1)\n",
    "  \n",
    "    \n",
    "    return res\n",
    "    "
   ]
  },
  {
   "cell_type": "markdown",
   "metadata": {},
   "source": [
    "#### Here also, we used the concept of broadcasting and it returns the result as list of eucledian distance w.r.t all rows in training dataset"
   ]
  },
  {
   "cell_type": "code",
   "execution_count": 37,
   "metadata": {},
   "outputs": [],
   "source": [
    "def euclidean_distance(a,b):\n",
    "    res=np.sqrt(np.sum((a-b)**2,axis=1))\n",
    "\n",
    "    return res"
   ]
  },
  {
   "cell_type": "code",
   "execution_count": 38,
   "metadata": {},
   "outputs": [],
   "source": [
    "def distance(x, y, flag):\n",
    "    if flag==1:\n",
    "        return euclidean_distance(x,y)\n",
    "    else:\n",
    "        return manhattan_distance(x,y)"
   ]
  },
  {
   "cell_type": "markdown",
   "metadata": {},
   "source": [
    "#### Here, we implemented our knn classifier  by finding list of distances using function declared above and then selecting first k minimum values from the list"
   ]
  },
  {
   "cell_type": "code",
   "execution_count": 39,
   "metadata": {},
   "outputs": [],
   "source": [
    "def predict(x_train,y_train,x_test,k,flag):\n",
    "    res=[]\n",
    "    ytrain=y_train.flatten()\n",
    "    pnt1=np.array(x_train)\n",
    "    for rowtest in x_test:\n",
    "        dist= distance(pnt1,rowtest,flag)\n",
    "        dist1=dist.flatten()\n",
    "        a = np.concatenate((dist1.reshape(-1,1),ytrain.reshape(-1,1)),axis=1)\n",
    "        a = a[a[:,0].argsort()]\n",
    "        classes= set(y_train)\n",
    "        d={}\n",
    "        for c in classes:\n",
    "            d[c]=0\n",
    "        for i in range(k):\n",
    "            label= a[i][1]\n",
    "            d[label] = d[label]+1\n",
    "        maxv=0\n",
    "        for i in d:\n",
    "            if(d[i]>maxv):\n",
    "                maxv=d[i]\n",
    "                key=i\n",
    "        res.append(key)\n",
    "\n",
    "    return res"
   ]
  },
  {
   "cell_type": "code",
   "execution_count": 40,
   "metadata": {
    "scrolled": true
   },
   "outputs": [
    {
     "name": "stdout",
     "output_type": "stream",
     "text": [
      "[[411   0   0   0   0   1   2   0   0   0]\n",
      " [  0 456   1   0   1   0   0   1   0   0]\n",
      " [  3   6 368   3   0   0   1   8   1   1]\n",
      " [  2   3   3 399   0   3   0   2   2   2]\n",
      " [  0   3   0   0 334   0   0   0   0   9]\n",
      " [  2   3   2   2   1 365   5   0   1   3]\n",
      " [  1   1   0   0   1   1 380   0   0   0]\n",
      " [  0   4   0   0   2   0   0 401   1   4]\n",
      " [  1  12   1   6   5   7   3   0 341   8]\n",
      " [  2   0   1   2   3   0   0   6   0 396]]\n",
      "              precision    recall  f1-score   support\n",
      "\n",
      "           0       0.97      0.99      0.98       414\n",
      "           1       0.93      0.99      0.96       459\n",
      "           2       0.98      0.94      0.96       391\n",
      "           3       0.97      0.96      0.96       416\n",
      "           4       0.96      0.97      0.96       346\n",
      "           5       0.97      0.95      0.96       384\n",
      "           6       0.97      0.99      0.98       384\n",
      "           7       0.96      0.97      0.97       412\n",
      "           8       0.99      0.89      0.93       384\n",
      "           9       0.94      0.97      0.95       410\n",
      "\n",
      "    accuracy                           0.96      4000\n",
      "   macro avg       0.96      0.96      0.96      4000\n",
      "weighted avg       0.96      0.96      0.96      4000\n",
      "\n",
      "0.96275\n"
     ]
    }
   ],
   "source": [
    "re=predict(X_train,Y_train,X_test,5,1)\n",
    "\n",
    "print (confusion_matrix(y_test,re,labels=np.unique(re)))\n",
    "print (classification_report(y_test,re,labels=np.unique(re)))\n",
    "print (accuracy_score(y_test,re))"
   ]
  },
  {
   "cell_type": "markdown",
   "metadata": {},
   "source": [
    "#### We experiment on different values of K to check  how ot varies with respect to K for both the type of distances"
   ]
  },
  {
   "cell_type": "code",
   "execution_count": 41,
   "metadata": {},
   "outputs": [
    {
     "data": {
      "text/plain": [
       "Text(0.5, 1.0, 'k vs accuracy')"
      ]
     },
     "execution_count": 41,
     "metadata": {},
     "output_type": "execute_result"
    },
    {
     "data": {
      "image/png": "[encoded data removed]",
      "text/plain": [
       "<Figure size 432x288 with 1 Axes>"
      ]
     },
     "metadata": {
      "needs_background": "light"
     },
     "output_type": "display_data"
    }
   ],
   "source": [
    "x_axis = [ i for i in range(5,11)]\n",
    "pe = []\n",
    "pc = []\n",
    "pm = []\n",
    "\n",
    "for j in x_axis:\n",
    "    t = predict(X_train,Y_train,X_test,j,1)\n",
    "    pe.append(accuracy_score(Y_test,t))\n",
    "    \n",
    "for j in x_axis:\n",
    "    t = predict(X_train,Y_train,X_test,j,3)\n",
    "    pm.append(accuracy_score(Y_test,t))\n",
    "    \n",
    "fig,ax = plt.subplots()\n",
    "ax.plot(x_axis, pe, label=\"euclidean distance\")\n",
    "ax.plot(x_axis, pm, label=\"manhattan distance\")\n",
    "ax.legend()\n",
    "ax.set_xlabel(\"k\")\n",
    "ax.set_ylabel(\"accuracy\")\n",
    "ax.set_title(\"k vs accuracy\")"
   ]
  },
  {
   "cell_type": "code",
   "execution_count": 42,
   "metadata": {},
   "outputs": [
    {
     "name": "stdout",
     "output_type": "stream",
     "text": [
      "[0.96275, 0.95925, 0.95925, 0.958, 0.9585, 0.95475]\n"
     ]
    }
   ],
   "source": [
    "print(pe)"
   ]
  },
  {
   "cell_type": "code",
   "execution_count": 43,
   "metadata": {},
   "outputs": [
    {
     "name": "stdout",
     "output_type": "stream",
     "text": [
      "[0.953, 0.9495, 0.9495, 0.94675, 0.949, 0.9455]\n"
     ]
    }
   ],
   "source": [
    "print(pm) "
   ]
  },
  {
   "cell_type": "markdown",
   "metadata": {},
   "source": [
    "## Observations\n",
    "    1. Eucledean result give better result than manhattan distance \n",
    "    2. Accuracy slightly varies as K value changes\n",
    "    3. We have nearly same value of accuracy as provided by Sklearn Library "
   ]
  },
  {
   "cell_type": "code",
   "execution_count": null,
   "metadata": {},
   "outputs": [],
   "source": []
  }
 ],
 "metadata": {
  "kernelspec": {
   "display_name": "Python 3",
   "language": "python",
   "name": "python3"
  },
  "language_info": {
   "codemirror_mode": {
    "name": "ipython",
    "version": 3
   },
   "file_extension": ".py",
   "mimetype": "text/x-python",
   "name": "python",
   "nbconvert_exporter": "python",
   "pygments_lexer": "ipython3",
   "version": "3.7.4"
  }
 },
 "nbformat": 4,
 "nbformat_minor": 2
}
